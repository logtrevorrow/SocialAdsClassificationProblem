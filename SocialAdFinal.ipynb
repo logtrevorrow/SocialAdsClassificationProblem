{
 "cells": [
  {
   "cell_type": "markdown",
   "id": "3f23d639-5bb5-463f-8dc0-1be34efa9d25",
   "metadata": {},
   "source": [
    "This is a social network ad dataset that includes three columns: Age, Estimated Salary, and Purchased.\n",
    "\n",
    "    Age:              Integer\n",
    "    Estimated Salary: Integer\n",
    "    Purchased:        Integer (0 or 1)\n",
    "    \n",
    "The goal with this data is to build a classifier that is able to predict whether or not a given user will purchase an ad or not given the age and estimated salary of the user. Obviously, this is not a very good dataset to predict this; however, this is just a little intro for me to play around with different classification methods."
   ]
  },
  {
   "cell_type": "markdown",
   "id": "657f3aa7-6019-47fb-9d39-f45c23b0998c",
   "metadata": {},
   "source": [
    "First we need to import the necessary libraries."
   ]
  },
  {
   "cell_type": "code",
   "execution_count": 1,
   "id": "ebfc1f46-1d6f-4068-b4c4-0574fe295a99",
   "metadata": {},
   "outputs": [],
   "source": [
    "import numpy as np\n",
    "import pandas as pd\n",
    "import os"
   ]
  },
  {
   "cell_type": "code",
   "execution_count": 2,
   "id": "c8ad82c0-b4eb-4e05-a370-f4793ad97903",
   "metadata": {},
   "outputs": [
    {
     "name": "stdout",
     "output_type": "stream",
     "text": [
      "     Age  EstimatedSalary  Purchased\n",
      "0     19            19000          0\n",
      "1     35            20000          0\n",
      "2     26            43000          0\n",
      "3     27            57000          0\n",
      "4     19            76000          0\n",
      "..   ...              ...        ...\n",
      "395   46            41000          1\n",
      "396   51            23000          1\n",
      "397   50            20000          1\n",
      "398   36            33000          0\n",
      "399   49            36000          1\n",
      "\n",
      "[400 rows x 3 columns]\n"
     ]
    }
   ],
   "source": [
    "os.chdir('C:\\\\Users\\\\logtr\\\\SocialAd')\n",
    "df = pd.read_csv('Social_Network_Ads.csv')\n",
    "print(df)"
   ]
  },
  {
   "cell_type": "markdown",
   "id": "6b18f221-f7ad-42bb-8cb6-b4dc511d09ee",
   "metadata": {},
   "source": [
    "\n",
    "My first classification method will be using Support Vectors (SVM). SVMs are efficient on datasets that are linearly separable and allow a kernel trick to work with data that is not linearly separable. I do not currently know whether the data is linearly separable or not so I will first attempt to a linear SVM and then move to utilizing the kernel trick if that is needed."
   ]
  },
  {
   "cell_type": "markdown",
   "id": "5433c96b-07df-4a74-8864-45b3979f5e39",
   "metadata": {},
   "source": [
    "First I am going to check to see if the dataset is balanced."
   ]
  },
  {
   "cell_type": "code",
   "execution_count": 3,
   "id": "56deadf7-7aa0-48de-b055-47e68117858f",
   "metadata": {},
   "outputs": [
    {
     "name": "stdout",
     "output_type": "stream",
     "text": [
      "Num Purchased =  143\n",
      "Num Not Purchased =  257\n"
     ]
    }
   ],
   "source": [
    "print(\"Num Purchased = \", len(df.loc[df['Purchased'] == 1]))\n",
    "print(\"Num Not Purchased = \", len(df.loc[df['Purchased'] == 0]))\n"
   ]
  },
  {
   "cell_type": "markdown",
   "id": "44171139-c8ba-4e94-be79-d10a911dde75",
   "metadata": {},
   "source": [
    "Sadly this dataset is not balanced."
   ]
  },
  {
   "cell_type": "code",
   "execution_count": 4,
   "id": "1c469569-46e0-4ed5-8513-94953554a508",
   "metadata": {
    "tags": []
   },
   "outputs": [
    {
     "name": "stdout",
     "output_type": "stream",
     "text": [
      "300\n",
      "100\n",
      "300\n",
      "100\n"
     ]
    }
   ],
   "source": [
    "from sklearn.svm import SVC\n",
    "from sklearn.model_selection import train_test_split\n",
    "from sklearn.metrics import classification_report, confusion_matrix\n",
    "import matplotlib.pyplot as plt\n",
    "\n",
    "x = df.iloc[:,0:2].values\n",
    "y = df['Purchased'].to_numpy()\n",
    "\n",
    "x_train, x_test, y_train, y_test = train_test_split(x, y)\n",
    "print(len(x_train))\n",
    "print(len(x_test))\n",
    "print(len(y_train))\n",
    "print(len(y_test))"
   ]
  },
  {
   "cell_type": "raw",
   "id": "9bd195f4-f0d2-4014-a720-5cdbf7e5c9a0",
   "metadata": {},
   "source": [
    "Firstly, I would like to check and see what the classifications look like on a 2d graph."
   ]
  },
  {
   "cell_type": "code",
   "execution_count": 5,
   "id": "836bd2c2-f24e-46e0-b680-16374938c01a",
   "metadata": {},
   "outputs": [
    {
     "data": {
      "image/png": "[encoded data removed]",
      "text/plain": [
       "<Figure size 432x288 with 1 Axes>"
      ]
     },
     "metadata": {
      "needs_background": "light"
     },
     "output_type": "display_data"
    }
   ],
   "source": [
    "purch = df.loc[df['Purchased'] == 1]\n",
    "notPurch = df.loc[df['Purchased'] == 0]\n",
    "data = (purch, notPurch)\n",
    "colors = (\"green\", \"red\")\n",
    "groups = (\"Purchased\", \"Not Purchased\")\n",
    "\n",
    "figure = plt.figure()\n",
    "ax = figure.add_subplot()\n",
    "\n",
    "for d, c, g in zip(data, colors, groups):\n",
    "    curX, curY = d.iloc[:,0].values, d.iloc[:,1].values\n",
    "    ax.scatter(curX, curY, c=c, label=g, s=5)\n",
    "\n",
    "plt.title(\"Purchased vs Not Purchased\")\n",
    "plt.legend()\n",
    "plt.xlabel(\"Age\")\n",
    "plt.ylabel(\"Estimated Salary\")\n",
    "plt.show()\n",
    "\n"
   ]
  },
  {
   "cell_type": "raw",
   "id": "95452e4f-1df7-44c7-a5a8-1e0a261ba052",
   "metadata": {},
   "source": [
    "From this graph, we can see that the determination of whether or not an advertisement is purchased or not purchased can be roughly estimated using a linear separation boundary. We can see that there are outliers for both not purchased and purchased. We can see that both age and salary are together somewhat indicative of whether or not an advertisement is purchased with the lower the salary and younger the individual, the less likely to purchase an advertisement. "
   ]
  },
  {
   "cell_type": "code",
   "execution_count": 6,
   "id": "62cf8773-07fb-4eee-becb-a32998624656",
   "metadata": {},
   "outputs": [
    {
     "name": "stdout",
     "output_type": "stream",
     "text": [
      "              precision    recall  f1-score   support\n",
      "\n",
      "           0       0.76      1.00      0.86        62\n",
      "           1       1.00      0.47      0.64        38\n",
      "\n",
      "    accuracy                           0.80       100\n",
      "   macro avg       0.88      0.74      0.75       100\n",
      "weighted avg       0.85      0.80      0.78       100\n",
      "\n",
      "[[62  0]\n",
      " [20 18]]\n"
     ]
    }
   ],
   "source": [
    "model = SVC()\n",
    "\n",
    "model.fit(x_train, y_train)\n",
    "\n",
    "predictions = model.predict(x_test)\n",
    "\n",
    "print(classification_report(y_test, predictions))\n",
    "print(confusion_matrix(y_test, predictions))"
   ]
  },
  {
   "cell_type": "raw",
   "id": "8d67a95b-5950-4d13-886b-be4ac1120f03",
   "metadata": {},
   "source": [
    "So using the standard C-support vector classification, I was able to obtain an accuracy of 80%. I am going to experiment more with the regularization (C), kernel, and gamma parameters to see if we can obtain a model with higher accuracy.\n",
    "\n",
    "FIRST, I will experiment with using different regularization terms (l2 penalty). This penalizes classifications that are further from the true value more than values that are closer to the prediction. \n",
    "\n",
    "Use this to explore more: https://scikit-learn.org/stable/modules/svm.html"
   ]
  },
  {
   "cell_type": "code",
   "execution_count": 7,
   "id": "1582c16d-01cd-43e5-8689-0d7abed203ce",
   "metadata": {},
   "outputs": [
    {
     "name": "stdout",
     "output_type": "stream",
     "text": [
      "Starting C Tuning...\n",
      "Best Model 1 Accuracy: 0.82 | C = 24.90000000000002\n",
      "              precision    recall  f1-score   support\n",
      "\n",
      "           0       0.78      1.00      0.87        62\n",
      "           1       1.00      0.53      0.69        38\n",
      "\n",
      "    accuracy                           0.82       100\n",
      "   macro avg       0.89      0.76      0.78       100\n",
      "weighted avg       0.86      0.82      0.80       100\n",
      "\n",
      "[[62  0]\n",
      " [18 20]]\n",
      "\n",
      "Starting K tuning...\n",
      "Best Model 1 Accuracy: 0.9 | K = linear\n",
      "              precision    recall  f1-score   support\n",
      "\n",
      "           0       0.87      0.98      0.92        62\n",
      "           1       0.97      0.76      0.85        38\n",
      "\n",
      "    accuracy                           0.90       100\n",
      "   macro avg       0.92      0.87      0.89       100\n",
      "weighted avg       0.91      0.90      0.90       100\n",
      "\n",
      "[[61  1]\n",
      " [ 9 29]]\n"
     ]
    }
   ],
   "source": [
    "cParams1 = np.arange(1, 101, 0.1)\n",
    "kernels = ['linear', 'rbf', 'poly', 'sigmoid']\n",
    "bestParam1 = 1\n",
    "model1 = SVC()\n",
    "model1Acc, model1C = 0, 0\n",
    "model1kern = ''\n",
    "model1gamm = ''\n",
    "\n",
    "print(\"Starting C Tuning...\")\n",
    "#i = 0\n",
    "for c in cParams1:\n",
    "    \n",
    "   #start = time.time()\n",
    "    curModel = SVC(C=c)\n",
    "    curModel.fit(x_train, y_train)\n",
    "    score = curModel.score(x_test, y_test)\n",
    "   #print(\"For C =\", c, \", accuracy =\", score)\n",
    "\n",
    "    if score > model1Acc:\n",
    "        model1C = c\n",
    "        model1Acc = score\n",
    "        model1 = curModel\n",
    "    \n",
    "   #print(\"Iteration\", i, \"=\",time.time() - start)\n",
    "   #i += 1\n",
    "\n",
    "print(\"Best Model 1 Accuracy:\", model1Acc, \"| C =\", model1C)\n",
    "model1preds = model1.predict(x_test)\n",
    "print(classification_report(y_test, model1preds))\n",
    "print(confusion_matrix(y_test, model1preds))\n",
    "\n",
    "print(\"\\nStarting K tuning...\")\n",
    "model1K = 'rbf'\n",
    "for k in kernels:\n",
    "    curModel = SVC(C=model1C, kernel=k)\n",
    "    curModel.fit(x_train, y_train)\n",
    "    score = curModel.score(x_test, y_test)\n",
    "    \n",
    "    if score > model1Acc:\n",
    "        model1Acc = score\n",
    "        model1 = curModel\n",
    "        model1K = k\n",
    "\n",
    "print(\"Best Model 1 Accuracy:\", model1Acc, \"| K =\", model1K)\n",
    "model1preds = model1.predict(x_test)\n",
    "print(classification_report(y_test, model1preds))\n",
    "print(confusion_matrix(y_test, model1preds))"
   ]
  },
  {
   "cell_type": "raw",
   "id": "51f8194f-489b-445b-885b-420920e24912",
   "metadata": {},
   "source": [
    "After tuning our model to the C and K parameters we were able to obtain a model accuracy of 90%.\n",
    "\n",
    "Looking at the classification report,\n",
    "    For 0 (Not Purchased):\n",
    "    - The model had a precision of 87% in the instance when an advertisement is not purchased. This means that for a given advertisement that is purchased, our \n",
    "    model is 87% likely to NOT label the instance as not purchased. \n",
    "    - The model has a recall percentage of 98%. This means that our model is 98% likely to label all \"Not Purchased\" samples as \"Not Purchased\".\n",
    "\n",
    "    For 1 (Purchased):\n",
    "    - The model had a precision of 97%. This means that for a given advertisement that is not purchased, the model is 97% likely to NOT label the instance as \n",
    "    purchased. \n",
    "    - The model has a recall percentage of 76%. This means that our model is 76% likely to label all \"Purchased\" samples as \"Purchased\".\n",
    "    \n",
    "    \n",
    "Looking at the Confusion Matrix, out of 100 samples our model had 1 false positives and 9 false negatives. From this I can interpret that the model is more likely to incorrectly predict that an advertisement was not purchased when it actually was compared to predicting an advertisement was purchased when it actually was not purchased. I would assume that this is the desired distinction in a business setting as a company would rather financially underestimate their potential gains than overestimate. \n",
    "\n",
    "Furthermore, we can see that the recall on a purchased advertisement dramatically increased across the 3 models computed ( 47% -> 53% -> 76% ). However, while our purchased recall increased, our not purchased recall decreased by 2%. While we would ideally not want this to decrease, I think the trade off in having in 100 test samples 11 less false negatives in trade for 1 more false positives is beneficial for the reason listed above. \n"
   ]
  },
  {
   "cell_type": "code",
   "execution_count": 8,
   "id": "9e167cf6-8fcd-450b-aafb-b1e51e7e6cb4",
   "metadata": {},
   "outputs": [
    {
     "data": {
      "image/png": "[encoded data removed]",
      "text/plain": [
       "<Figure size 432x288 with 1 Axes>"
      ]
     },
     "metadata": {
      "needs_background": "light"
     },
     "output_type": "display_data"
    },
    {
     "data": {
      "image/png": "[encoded data removed]",
      "text/plain": [
       "<Figure size 432x288 with 1 Axes>"
      ]
     },
     "metadata": {
      "needs_background": "light"
     },
     "output_type": "display_data"
    }
   ],
   "source": [
    "from mlxtend.plotting import plot_decision_regions\n",
    "\n",
    "plot_decision_regions(X=df.iloc[:, 0:2].values, y=df.iloc[:, 2].values, clf=model1, legend=2)\n",
    "plt.xlabel('Age', size=14)\n",
    "plt.ylabel('Estimated Salary', size=14)\n",
    "plt.title('SVM Decision Region Boundary Train', size=16)\n",
    "plt.show()\n",
    "\n",
    "plot_decision_regions(X=x_test, y=y_test, clf=model1, legend=2)\n",
    "plt.xlabel('Age', size=14)\n",
    "plt.ylabel('Estimated Salary', size=14)\n",
    "plt.title('SVM Decision Region Boundary Test', size=16)\n",
    "plt.show()\n",
    "\n"
   ]
  },
  {
   "cell_type": "raw",
   "id": "92257053-ab81-4259-80e9-798b5c350896",
   "metadata": {},
   "source": [
    "Here we can see the SVM Decision boundary for our model and see how it performs on both the training and test set.\n",
    "\n",
    "Now, I will experiment using Logistic Regression with this dataset. My hypothesis is that this method will perform slightly worse than the Support Vectors. I will experiment with logistical regression models utilizing both the l1 and l2 penalty and also will solely be using the liblinear optimization method as this method performs best with smaller datasets."
   ]
  },
  {
   "cell_type": "code",
   "execution_count": 11,
   "id": "9e85ae01-aff3-4a3a-a10a-4ccee6b50176",
   "metadata": {},
   "outputs": [
    {
     "name": "stdout",
     "output_type": "stream",
     "text": [
      "[[59  5]\n",
      " [10 26]]\n",
      "[[64  0]\n",
      " [36  0]]\n",
      "0.85 0.64\n"
     ]
    }
   ],
   "source": [
    "import numpy as np\n",
    "import pandas as pd\n",
    "import os\n",
    "import matplotlib.pyplot as plt\n",
    "from sklearn.metrics import classification_report, confusion_matrix\n",
    "from sklearn.linear_model import LogisticRegression\n",
    "from sklearn.model_selection import train_test_split\n",
    "\n",
    "os.chdir('C:\\\\Users\\\\logtr\\\\SocialAd')\n",
    "df = pd.read_csv('Social_Network_Ads.csv')\n",
    "\n",
    "x = df.iloc[:,0:2].values\n",
    "y = df['Purchased'].to_numpy()\n",
    "x_train, x_test, y_train, y_test = train_test_split(x, y)\n",
    "\n",
    "l1Model = LogisticRegression(solver='liblinear', penalty='l1').fit(x_train, y_train)\n",
    "l2Model = LogisticRegression(solver='liblinear', penalty='l2').fit(x_train, y_train)\n",
    "\n",
    "l1PredProbs = l1Model.predict_proba(x_test)\n",
    "l1Predictions = l1Model.predict(x_test)\n",
    "l1Score = l1Model.score(x_test, y_test)\n",
    "\n",
    "l2PredProbs = l2Model.predict_proba(x_test)\n",
    "l2Predictions = l2Model.predict(x_test)\n",
    "l2Score = l2Model.score(x_test, y_test)\n",
    "\n",
    "print(confusion_matrix(y_test, l1Predictions))\n",
    "print(confusion_matrix(y_test, l2Predictions))\n",
    "print(l1Score, l2Score)"
   ]
  },
  {
   "cell_type": "markdown",
   "id": "4752fbdf-abe7-4c1b-8394-c051a8171977",
   "metadata": {},
   "source": [
    "Upon first analysis, it seems that the logistical model with l1 penalty achieves a higher accuracy of 85% compared to 64% and it is interesting to see that the l2 model has 0 false positives and true negatives. I would not be doing the logistical models justly if I were not to experiment with the regularization term and will thus be doing that now. "
   ]
  },
  {
   "cell_type": "code",
   "execution_count": 30,
   "id": "0ec26f14-22b0-4655-afe4-dd5d1b7f88a9",
   "metadata": {},
   "outputs": [
    {
     "name": "stdout",
     "output_type": "stream",
     "text": [
      "L1 model best C = 0.1 with Accuracy = 0.86\n",
      "L2 model best C = 0.1 with Accuracy = 0.64\n",
      "              precision    recall  f1-score   support\n",
      "\n",
      "           0       0.84      0.97      0.90        64\n",
      "           1       0.92      0.67      0.77        36\n",
      "\n",
      "    accuracy                           0.86       100\n",
      "   macro avg       0.88      0.82      0.84       100\n",
      "weighted avg       0.87      0.86      0.85       100\n",
      "\n",
      "[[62  2]\n",
      " [12 24]]\n"
     ]
    }
   ],
   "source": [
    "cValues = np.arange(0.1, 100, 0.1)\n",
    "\n",
    "l1C, l1Acc, l2C, l2Acc = 0, 0, 0, 0\n",
    "\n",
    "for c in cValues:\n",
    "    curl1Model = LogisticRegression(solver='liblinear', penalty='l1', C=c)\n",
    "    curl2Model = LogisticRegression(solver='liblinear', penalty='l2', C=c)\n",
    "    curl2Model.fit(x_train, y_train)\n",
    "    curl1Model.fit(x_train, y_train)\n",
    "    \n",
    "    if curl1Model.score(x_test, y_test) > l1Acc:\n",
    "        l1C = c\n",
    "        l1Acc = curl1Model.score(x_test, y_test)\n",
    "    \n",
    "    if curl2Model.score(x_test, y_test) > l2Acc:\n",
    "        l2C = c\n",
    "        l2Acc = curl2Model.score(x_test, y_test)\n",
    "\n",
    "print(\"L1 model best C =\", l1C, \"with Accuracy =\", l1Acc)\n",
    "print(\"L2 model best C =\", l2C, \"with Accuracy =\", l2Acc)\n",
    "\n",
    "l1Model = LogisticRegression(solver='liblinear', penalty='l1', C=0.1)\n",
    "l1Model.fit(x_train, y_train)\n",
    "l1ModelPreds = l1Model.predict(x_test)\n",
    "print(classification_report(y_test, l1ModelPreds))\n",
    "print(confusion_matrix(y_test, l1ModelPreds)) "
   ]
  },
  {
   "cell_type": "raw",
   "id": "b3d3e076-6141-475f-902a-44f8ce38c035",
   "metadata": {},
   "source": [
    "From experimenting with the Regularization term, we find no improvements to the accuracy of our model. We find that with C = 0.1 (penalizing the complexity of the model the most) our model that utilizes L1 penalty yields the best accuracy with 86%. From our confusion matrix we can see that we had 2 false positives and 12 false negatives. In all, we can see that our SVM model is still preferred to a Logistic model rendering my hypothesis true, although we shall keep exploring."
   ]
  },
  {
   "cell_type": "raw",
   "id": "5635f5a4-00a8-4de0-8c4d-91502e05b630",
   "metadata": {},
   "source": [
    "We will next explore the use of K - Nearest Neighbors which is useful in assigning data to one class or another. "
   ]
  },
  {
   "cell_type": "code",
   "execution_count": 48,
   "id": "c43f3804-fc25-4aab-a00c-cbfd441c2fa0",
   "metadata": {},
   "outputs": [
    {
     "name": "stdout",
     "output_type": "stream",
     "text": [
      "Best k = 15 with an Accuracy = 0.87\n",
      "              precision    recall  f1-score   support\n",
      "\n",
      "           0       0.86      0.95      0.91        65\n",
      "           1       0.89      0.71      0.79        35\n",
      "\n",
      "    accuracy                           0.87       100\n",
      "   macro avg       0.88      0.83      0.85       100\n",
      "weighted avg       0.87      0.87      0.87       100\n",
      "\n",
      "[[62  3]\n",
      " [10 25]]\n"
     ]
    }
   ],
   "source": [
    "import numpy as np\n",
    "import pandas as pd\n",
    "import os\n",
    "import matplotlib.pyplot as plt\n",
    "from sklearn.metrics import classification_report, confusion_matrix\n",
    "from sklearn.neighbors import KNeighborsClassifier\n",
    "from sklearn.model_selection import train_test_split\n",
    "\n",
    "os.chdir('C:\\\\Users\\\\logtr\\\\SocialAd')\n",
    "df = pd.read_csv('Social_Network_Ads.csv')\n",
    "\n",
    "x = df.iloc[:,0:2].values\n",
    "y = df['Purchased'].to_numpy()\n",
    "x_train, x_test, y_train, y_test = train_test_split(x, y)\n",
    "\n",
    "from sklearn.neighbors import NearestNeighbors\n",
    "bestK = 1\n",
    "bestAcc = 0\n",
    "\n",
    "for i in range(500):\n",
    "    for k in range(1, 51):\n",
    "        curModel = KNeighborsClassifier(n_neighbors = k)\n",
    "        curModel.fit(x_train, y_train)\n",
    "        if curModel.score(x_test, y_test) > bestAcc:\n",
    "            bestK = k\n",
    "            bestAcc = curModel.score(x_test, y_test)\n",
    "\n",
    "print(\"Best k =\", bestK, \"with an Accuracy =\", bestAcc)\n",
    "bestModel = KNeighborsClassifier(n_neighbors=bestK)\n",
    "bestModel.fit(x_train, y_train)\n",
    "bestModelPreds = bestModel.predict(x_test)\n",
    "print(classification_report(y_test, bestModelPreds))\n",
    "print(confusion_matrix(y_test, bestModelPreds))"
   ]
  },
  {
   "cell_type": "raw",
   "id": "77675d84-bb80-4e0b-8731-c78ce3b88bdb",
   "metadata": {},
   "source": [
    "The KNN model achieved an accuracy of 87% with 3 false positives and 10 false negatives. The model slighlty out performs the logistic regression model and it is interesting to see that the model achieved the best accuracy with 3 nearest neighbors rather than 2. "
   ]
  },
  {
   "cell_type": "raw",
   "id": "8ad780d3-a99f-45ed-ba5b-c05ef2dee071",
   "metadata": {},
   "source": [
    "We will next attempt to fit a Decision tree to the daterset. My initial hypothesis is that this model will perform the worst out of all the other models as Decision Trees usually perform worse than other models when the dataset is unbalanced (which ours is) and on data that takes on a spectrum of values rather than 4 possible outcomes (Age and Estimated Salary can both take on a wide spectrum of values)."
   ]
  },
  {
   "cell_type": "code",
   "execution_count": 29,
   "id": "40695305-fd87-4b0d-a202-94248ce3df9c",
   "metadata": {},
   "outputs": [
    {
     "name": "stdout",
     "output_type": "stream",
     "text": [
      "              precision    recall  f1-score   support\n",
      "\n",
      "           0       0.88      0.91      0.90        57\n",
      "           1       0.88      0.84      0.86        43\n",
      "\n",
      "    accuracy                           0.88       100\n",
      "   macro avg       0.88      0.87      0.88       100\n",
      "weighted avg       0.88      0.88      0.88       100\n",
      "\n",
      "[[52  5]\n",
      " [ 7 36]]\n",
      "              precision    recall  f1-score   support\n",
      "\n",
      "           0       0.93      0.93      0.93        57\n",
      "           1       0.91      0.91      0.91        43\n",
      "\n",
      "    accuracy                           0.92       100\n",
      "   macro avg       0.92      0.92      0.92       100\n",
      "weighted avg       0.92      0.92      0.92       100\n",
      "\n",
      "[[53  4]\n",
      " [ 4 39]]\n"
     ]
    }
   ],
   "source": [
    "import numpy as np\n",
    "import pandas as pd\n",
    "import os\n",
    "import matplotlib.pyplot as plt\n",
    "from sklearn.metrics import classification_report, confusion_matrix\n",
    "from sklearn.tree import DecisionTreeClassifier\n",
    "from sklearn.model_selection import train_test_split\n",
    "from sklearn import tree\n",
    "\n",
    "os.chdir('C:\\\\Users\\\\logtr\\\\SocialAd')\n",
    "df = pd.read_csv('Social_Network_Ads.csv')\n",
    "\n",
    "x = df.iloc[:,0:2].values\n",
    "y = df['Purchased'].to_numpy()\n",
    "x_train, x_test, y_train, y_test = train_test_split(x, y)\n",
    "\n",
    "tree1 = DecisionTreeClassifier(criterion='entropy')\n",
    "tree2 = DecisionTreeClassifier(criterion='gini')\n",
    "tree1.fit(x_train, y_train)\n",
    "tree2.fit(x_train, y_train)\n",
    "tree1Preds = tree1.predict(x_test)\n",
    "tree2Preds = tree2.predict(x_test)\n",
    "\n",
    "print(classification_report(y_test, tree1Preds))\n",
    "print(confusion_matrix(y_test, tree1Preds))\n",
    "print(classification_report(y_test, tree2Preds))\n",
    "print(confusion_matrix(y_test, tree2Preds))"
   ]
  },
  {
   "cell_type": "raw",
   "id": "adfa5b19-34e4-4320-9fd4-edbabe861051",
   "metadata": {},
   "source": [
    "I am actually extremely surprised to see that the decision tree usins 'gini' criterion achieved an accuracy of 92%! The Model had 4 false positives and 4 false negatives as well which yields the lowest false negatives a model has been able to produce. From this test set, it seems that the Model that would yield the lowest number of false negatives would be the decision tree and would tailor itself to suit the needs of a business that is looking to keep false negatives at a minimum in this scenario. The tree structure is defined below."
   ]
  },
  {
   "cell_type": "code",
   "execution_count": 30,
   "id": "80446267-d3cc-4c7f-9f60-833ca297b2d4",
   "metadata": {},
   "outputs": [
    {
     "data": {
      "text/plain": [
       "[Text(154.13048780487804, 210.645, 'X[0] <= 42.5\\ngini = 0.444\\nsamples = 300\\nvalue = [200, 100]'),\n",
       " Text(89.82439024390244, 197.055, 'X[1] <= 90500.0\\ngini = 0.24\\nsamples = 215\\nvalue = [185, 30]'),\n",
       " Text(48.99512195121952, 183.465, 'X[0] <= 36.5\\ngini = 0.062\\nsamples = 186\\nvalue = [180, 6]'),\n",
       " Text(40.829268292682926, 169.875, 'gini = 0.0\\nsamples = 126\\nvalue = [126, 0]'),\n",
       " Text(57.1609756097561, 169.875, 'X[1] <= 83500.0\\ngini = 0.18\\nsamples = 60\\nvalue = [54, 6]'),\n",
       " Text(48.99512195121952, 156.285, 'X[1] <= 67500.0\\ngini = 0.155\\nsamples = 59\\nvalue = [54, 5]'),\n",
       " Text(40.829268292682926, 142.695, 'gini = 0.0\\nsamples = 30\\nvalue = [30, 0]'),\n",
       " Text(57.1609756097561, 142.695, 'X[0] <= 41.5\\ngini = 0.285\\nsamples = 29\\nvalue = [24, 5]'),\n",
       " Text(32.66341463414634, 129.10500000000002, 'X[1] <= 70500.0\\ngini = 0.219\\nsamples = 24\\nvalue = [21, 3]'),\n",
       " Text(24.49756097560976, 115.515, 'gini = 0.0\\nsamples = 1\\nvalue = [0, 1]'),\n",
       " Text(40.829268292682926, 115.515, 'X[1] <= 71500.0\\ngini = 0.159\\nsamples = 23\\nvalue = [21, 2]'),\n",
       " Text(16.33170731707317, 101.925, 'X[0] <= 39.5\\ngini = 0.278\\nsamples = 6\\nvalue = [5, 1]'),\n",
       " Text(8.165853658536586, 88.33500000000001, 'gini = 0.0\\nsamples = 4\\nvalue = [4, 0]'),\n",
       " Text(24.49756097560976, 88.33500000000001, 'X[0] <= 40.5\\ngini = 0.5\\nsamples = 2\\nvalue = [1, 1]'),\n",
       " Text(16.33170731707317, 74.745, 'gini = 0.0\\nsamples = 1\\nvalue = [0, 1]'),\n",
       " Text(32.66341463414634, 74.745, 'gini = 0.0\\nsamples = 1\\nvalue = [1, 0]'),\n",
       " Text(65.32682926829268, 101.925, 'X[0] <= 37.5\\ngini = 0.111\\nsamples = 17\\nvalue = [16, 1]'),\n",
       " Text(57.1609756097561, 88.33500000000001, 'X[1] <= 77500.0\\ngini = 0.278\\nsamples = 6\\nvalue = [5, 1]'),\n",
       " Text(48.99512195121952, 74.745, 'gini = 0.0\\nsamples = 4\\nvalue = [4, 0]'),\n",
       " Text(65.32682926829268, 74.745, 'X[1] <= 79000.0\\ngini = 0.5\\nsamples = 2\\nvalue = [1, 1]'),\n",
       " Text(57.1609756097561, 61.155, 'gini = 0.0\\nsamples = 1\\nvalue = [0, 1]'),\n",
       " Text(73.49268292682927, 61.155, 'gini = 0.0\\nsamples = 1\\nvalue = [1, 0]'),\n",
       " Text(73.49268292682927, 88.33500000000001, 'gini = 0.0\\nsamples = 11\\nvalue = [11, 0]'),\n",
       " Text(81.65853658536585, 129.10500000000002, 'X[1] <= 71500.0\\ngini = 0.48\\nsamples = 5\\nvalue = [3, 2]'),\n",
       " Text(73.49268292682927, 115.515, 'gini = 0.0\\nsamples = 1\\nvalue = [1, 0]'),\n",
       " Text(89.82439024390244, 115.515, 'X[1] <= 76000.0\\ngini = 0.5\\nsamples = 4\\nvalue = [2, 2]'),\n",
       " Text(81.65853658536585, 101.925, 'gini = 0.0\\nsamples = 1\\nvalue = [0, 1]'),\n",
       " Text(97.99024390243903, 101.925, 'X[1] <= 79500.0\\ngini = 0.444\\nsamples = 3\\nvalue = [2, 1]'),\n",
       " Text(89.82439024390244, 88.33500000000001, 'gini = 0.0\\nsamples = 1\\nvalue = [1, 0]'),\n",
       " Text(106.15609756097561, 88.33500000000001, 'gini = 0.5\\nsamples = 2\\nvalue = [1, 1]'),\n",
       " Text(65.32682926829268, 156.285, 'gini = 0.0\\nsamples = 1\\nvalue = [0, 1]'),\n",
       " Text(130.65365853658537, 183.465, 'X[0] <= 26.5\\ngini = 0.285\\nsamples = 29\\nvalue = [5, 24]'),\n",
       " Text(122.48780487804878, 169.875, 'gini = 0.0\\nsamples = 1\\nvalue = [1, 0]'),\n",
       " Text(138.81951219512194, 169.875, 'X[1] <= 117500.0\\ngini = 0.245\\nsamples = 28\\nvalue = [4, 24]'),\n",
       " Text(130.65365853658537, 156.285, 'X[1] <= 107500.0\\ngini = 0.408\\nsamples = 14\\nvalue = [4, 10]'),\n",
       " Text(122.48780487804878, 142.695, 'gini = 0.0\\nsamples = 7\\nvalue = [0, 7]'),\n",
       " Text(138.81951219512194, 142.695, 'X[0] <= 40.0\\ngini = 0.49\\nsamples = 7\\nvalue = [4, 3]'),\n",
       " Text(130.65365853658537, 129.10500000000002, 'X[0] <= 34.5\\ngini = 0.444\\nsamples = 6\\nvalue = [4, 2]'),\n",
       " Text(122.48780487804878, 115.515, 'X[1] <= 113500.0\\ngini = 0.5\\nsamples = 4\\nvalue = [2, 2]'),\n",
       " Text(114.3219512195122, 101.925, 'gini = 0.0\\nsamples = 1\\nvalue = [0, 1]'),\n",
       " Text(130.65365853658537, 101.925, 'X[0] <= 33.0\\ngini = 0.444\\nsamples = 3\\nvalue = [2, 1]'),\n",
       " Text(122.48780487804878, 88.33500000000001, 'gini = 0.5\\nsamples = 2\\nvalue = [1, 1]'),\n",
       " Text(138.81951219512194, 88.33500000000001, 'gini = 0.0\\nsamples = 1\\nvalue = [1, 0]'),\n",
       " Text(138.81951219512194, 115.515, 'gini = 0.0\\nsamples = 2\\nvalue = [2, 0]'),\n",
       " Text(146.98536585365855, 129.10500000000002, 'gini = 0.0\\nsamples = 1\\nvalue = [0, 1]'),\n",
       " Text(146.98536585365855, 156.285, 'gini = 0.0\\nsamples = 14\\nvalue = [0, 14]'),\n",
       " Text(218.43658536585366, 197.055, 'X[0] <= 46.5\\ngini = 0.291\\nsamples = 85\\nvalue = [15, 70]'),\n",
       " Text(187.81463414634146, 183.465, 'X[1] <= 104000.0\\ngini = 0.455\\nsamples = 20\\nvalue = [7, 13]'),\n",
       " Text(179.64878048780488, 169.875, 'X[1] <= 52000.0\\ngini = 0.492\\nsamples = 16\\nvalue = [7, 9]'),\n",
       " Text(163.3170731707317, 156.285, 'X[0] <= 44.5\\ngini = 0.346\\nsamples = 9\\nvalue = [2, 7]'),\n",
       " Text(155.15121951219513, 142.695, 'gini = 0.0\\nsamples = 1\\nvalue = [1, 0]'),\n",
       " Text(171.4829268292683, 142.695, 'X[1] <= 25000.0\\ngini = 0.219\\nsamples = 8\\nvalue = [1, 7]'),\n",
       " Text(163.3170731707317, 129.10500000000002, 'X[0] <= 45.5\\ngini = 0.444\\nsamples = 3\\nvalue = [1, 2]'),\n",
       " Text(155.15121951219513, 115.515, 'gini = 0.0\\nsamples = 2\\nvalue = [0, 2]'),\n",
       " Text(171.4829268292683, 115.515, 'gini = 0.0\\nsamples = 1\\nvalue = [1, 0]'),\n",
       " Text(179.64878048780488, 129.10500000000002, 'gini = 0.0\\nsamples = 5\\nvalue = [0, 5]'),\n",
       " Text(195.98048780487807, 156.285, 'X[1] <= 76500.0\\ngini = 0.408\\nsamples = 7\\nvalue = [5, 2]'),\n",
       " Text(187.81463414634146, 142.695, 'gini = 0.0\\nsamples = 2\\nvalue = [2, 0]'),\n",
       " Text(204.14634146341464, 142.695, 'X[1] <= 92000.0\\ngini = 0.48\\nsamples = 5\\nvalue = [3, 2]'),\n",
       " Text(195.98048780487807, 129.10500000000002, 'X[0] <= 45.5\\ngini = 0.5\\nsamples = 4\\nvalue = [2, 2]'),\n",
       " Text(187.81463414634146, 115.515, 'gini = 0.0\\nsamples = 1\\nvalue = [1, 0]'),\n",
       " Text(204.14634146341464, 115.515, 'X[1] <= 80500.0\\ngini = 0.444\\nsamples = 3\\nvalue = [1, 2]'),\n",
       " Text(195.98048780487807, 101.925, 'gini = 0.0\\nsamples = 1\\nvalue = [0, 1]'),\n",
       " Text(212.31219512195122, 101.925, 'X[1] <= 85000.0\\ngini = 0.5\\nsamples = 2\\nvalue = [1, 1]'),\n",
       " Text(204.14634146341464, 88.33500000000001, 'gini = 0.0\\nsamples = 1\\nvalue = [1, 0]'),\n",
       " Text(220.4780487804878, 88.33500000000001, 'gini = 0.0\\nsamples = 1\\nvalue = [0, 1]'),\n",
       " Text(212.31219512195122, 129.10500000000002, 'gini = 0.0\\nsamples = 1\\nvalue = [1, 0]'),\n",
       " Text(195.98048780487807, 169.875, 'gini = 0.0\\nsamples = 4\\nvalue = [0, 4]'),\n",
       " Text(249.05853658536586, 183.465, 'X[1] <= 41500.0\\ngini = 0.216\\nsamples = 65\\nvalue = [8, 57]'),\n",
       " Text(240.89268292682928, 169.875, 'gini = 0.0\\nsamples = 21\\nvalue = [0, 21]'),\n",
       " Text(257.22439024390246, 169.875, 'X[1] <= 46500.0\\ngini = 0.298\\nsamples = 44\\nvalue = [8, 36]'),\n",
       " Text(240.89268292682928, 156.285, 'X[0] <= 59.5\\ngini = 0.375\\nsamples = 4\\nvalue = [3, 1]'),\n",
       " Text(232.72682926829268, 142.695, 'gini = 0.0\\nsamples = 3\\nvalue = [3, 0]'),\n",
       " Text(249.05853658536586, 142.695, 'gini = 0.0\\nsamples = 1\\nvalue = [0, 1]'),\n",
       " Text(273.5560975609756, 156.285, 'X[0] <= 47.5\\ngini = 0.219\\nsamples = 40\\nvalue = [5, 35]'),\n",
       " Text(265.390243902439, 142.695, 'gini = 0.0\\nsamples = 6\\nvalue = [0, 6]'),\n",
       " Text(281.7219512195122, 142.695, 'X[0] <= 52.5\\ngini = 0.251\\nsamples = 34\\nvalue = [5, 29]'),\n",
       " Text(253.14146341463416, 129.10500000000002, 'X[1] <= 81000.0\\ngini = 0.346\\nsamples = 18\\nvalue = [4, 14]'),\n",
       " Text(236.80975609756098, 115.515, 'X[0] <= 48.5\\ngini = 0.5\\nsamples = 2\\nvalue = [1, 1]'),\n",
       " Text(228.6439024390244, 101.925, 'gini = 0.0\\nsamples = 1\\nvalue = [0, 1]'),\n",
       " Text(244.97560975609755, 101.925, 'gini = 0.0\\nsamples = 1\\nvalue = [1, 0]'),\n",
       " Text(269.47317073170734, 115.515, 'X[1] <= 105000.0\\ngini = 0.305\\nsamples = 16\\nvalue = [3, 13]'),\n",
       " Text(261.30731707317074, 101.925, 'gini = 0.0\\nsamples = 5\\nvalue = [0, 5]'),\n",
       " Text(277.6390243902439, 101.925, 'X[1] <= 116500.0\\ngini = 0.397\\nsamples = 11\\nvalue = [3, 8]'),\n",
       " Text(269.47317073170734, 88.33500000000001, 'gini = 0.0\\nsamples = 1\\nvalue = [1, 0]'),\n",
       " Text(285.8048780487805, 88.33500000000001, 'X[0] <= 51.5\\ngini = 0.32\\nsamples = 10\\nvalue = [2, 8]'),\n",
       " Text(277.6390243902439, 74.745, 'X[1] <= 132500.0\\ngini = 0.375\\nsamples = 8\\nvalue = [2, 6]'),\n",
       " Text(269.47317073170734, 61.155, 'gini = 0.0\\nsamples = 2\\nvalue = [0, 2]'),\n",
       " Text(285.8048780487805, 61.155, 'X[1] <= 143500.0\\ngini = 0.444\\nsamples = 6\\nvalue = [2, 4]'),\n",
       " Text(277.6390243902439, 47.565, 'X[0] <= 50.0\\ngini = 0.48\\nsamples = 5\\nvalue = [2, 3]'),\n",
       " Text(269.47317073170734, 33.974999999999994, 'X[1] <= 139500.0\\ngini = 0.375\\nsamples = 4\\nvalue = [1, 3]'),\n",
       " Text(261.30731707317074, 20.38499999999999, 'gini = 0.0\\nsamples = 2\\nvalue = [0, 2]'),\n",
       " Text(277.6390243902439, 20.38499999999999, 'X[0] <= 48.5\\ngini = 0.5\\nsamples = 2\\nvalue = [1, 1]'),\n",
       " Text(269.47317073170734, 6.7949999999999875, 'gini = 0.0\\nsamples = 1\\nvalue = [1, 0]'),\n",
       " Text(285.8048780487805, 6.7949999999999875, 'gini = 0.0\\nsamples = 1\\nvalue = [0, 1]'),\n",
       " Text(285.8048780487805, 33.974999999999994, 'gini = 0.0\\nsamples = 1\\nvalue = [1, 0]'),\n",
       " Text(293.9707317073171, 47.565, 'gini = 0.0\\nsamples = 1\\nvalue = [0, 1]'),\n",
       " Text(293.9707317073171, 74.745, 'gini = 0.0\\nsamples = 2\\nvalue = [0, 2]'),\n",
       " Text(310.30243902439025, 129.10500000000002, 'X[0] <= 58.5\\ngini = 0.117\\nsamples = 16\\nvalue = [1, 15]'),\n",
       " Text(302.13658536585365, 115.515, 'gini = 0.0\\nsamples = 11\\nvalue = [0, 11]'),\n",
       " Text(318.46829268292686, 115.515, 'X[1] <= 85500.0\\ngini = 0.32\\nsamples = 5\\nvalue = [1, 4]'),\n",
       " Text(310.30243902439025, 101.925, 'X[1] <= 79500.0\\ngini = 0.5\\nsamples = 2\\nvalue = [1, 1]'),\n",
       " Text(302.13658536585365, 88.33500000000001, 'gini = 0.0\\nsamples = 1\\nvalue = [0, 1]'),\n",
       " Text(318.46829268292686, 88.33500000000001, 'gini = 0.0\\nsamples = 1\\nvalue = [1, 0]'),\n",
       " Text(326.6341463414634, 101.925, 'gini = 0.0\\nsamples = 3\\nvalue = [0, 3]')]"
      ]
     },
     "execution_count": 30,
     "metadata": {},
     "output_type": "execute_result"
    },
    {
     "data": {
      "image/png": "[encoded data removed]",
      "text/plain": [
       "<Figure size 432x288 with 1 Axes>"
      ]
     },
     "metadata": {
      "needs_background": "light"
     },
     "output_type": "display_data"
    }
   ],
   "source": [
    "tree.plot_tree(tree2)"
   ]
  },
  {
   "cell_type": "raw",
   "id": "c6e6f792-54e4-4344-9632-ce0760a4d6ba",
   "metadata": {},
   "source": [
    "The last classifier I will be experimenting with is Random Forests. "
   ]
  },
  {
   "cell_type": "code",
   "execution_count": 35,
   "id": "7e2b6a4f-1107-4de2-96b7-448f0306d654",
   "metadata": {},
   "outputs": [
    {
     "name": "stdout",
     "output_type": "stream",
     "text": [
      "Best Num Estimators = 20 with Accuracy = 0.89\n"
     ]
    }
   ],
   "source": [
    "import numpy as np\n",
    "import pandas as pd\n",
    "import os\n",
    "import matplotlib.pyplot as plt\n",
    "from sklearn.metrics import classification_report, confusion_matrix\n",
    "from sklearn.ensemble import RandomForestClassifier\n",
    "from sklearn.model_selection import train_test_split\n",
    "\n",
    "os.chdir('C:\\\\Users\\\\logtr\\\\SocialAd')\n",
    "df = pd.read_csv('Social_Network_Ads.csv')\n",
    "\n",
    "x = df.iloc[:,0:2].values\n",
    "y = df['Purchased'].to_numpy()\n",
    "x_train, x_test, y_train, y_test = train_test_split(x, y)\n",
    "\n",
    "bestNumEstim = 10\n",
    "bestAcc = 0\n",
    "bestModel = RandomForestClassifier(n_estimators = bestNumEstim)\n",
    "\n",
    "for i in range(10, 501, 10):\n",
    "    curRF = RandomForestClassifier(n_estimators = i)\n",
    "    curRF.fit(x_train, y_train)\n",
    "    \n",
    "    if curRF.score(x_test, y_test) > bestAcc:\n",
    "        bestNumEstim = i\n",
    "        bestAcc = curRF.score(x_test, y_test)\n",
    "        bestModel = curRF\n",
    "        \n",
    "print(\"Best Num Estimators =\", bestNumEstim, \"with Accuracy =\", bestAcc)"
   ]
  },
  {
   "cell_type": "code",
   "execution_count": 36,
   "id": "b40acfdd-5846-43f8-bf2a-3a2c0d1ae335",
   "metadata": {},
   "outputs": [
    {
     "name": "stdout",
     "output_type": "stream",
     "text": [
      "              precision    recall  f1-score   support\n",
      "\n",
      "           0       0.90      0.94      0.92        68\n",
      "           1       0.86      0.78      0.82        32\n",
      "\n",
      "    accuracy                           0.89       100\n",
      "   macro avg       0.88      0.86      0.87       100\n",
      "weighted avg       0.89      0.89      0.89       100\n",
      "\n",
      "[[64  4]\n",
      " [ 7 25]]\n"
     ]
    }
   ],
   "source": [
    "print(classification_report(y_test, bestModel.predict(x_test)))\n",
    "print(confusion_matrix(y_test, bestModel.predict(x_test)))"
   ]
  },
  {
   "cell_type": "raw",
   "id": "2a017c6a-44f6-4406-a5ef-15ad9aafbbe3",
   "metadata": {},
   "source": [
    "The Random Forest Classifier achieved an accuracy of 89% with 4 False Positives and 7 False Negatives. "
   ]
  },
  {
   "cell_type": "raw",
   "id": "7cdaf853-46a8-4b7c-9215-ac19fde66e5b",
   "metadata": {},
   "source": [
    "I would like to experiment more with the SVM and Decision Tree models that achieved accuracies >= 90%. I will first experiment using an 80/20 split and then moving into k cross validation. "
   ]
  },
  {
   "cell_type": "code",
   "execution_count": null,
   "id": "6be78976-5678-46d1-98c3-e494aabf00b9",
   "metadata": {},
   "outputs": [],
   "source": [
    "x = df.iloc[:,0:2]\n",
    "import numpy as np\n",
    "import pandas as pd\n",
    "import os\n",
    "import matplotlib.pyplot as plt\n",
    "from sklearn.svm import SVC\n",
    "from sklearn.metrics import classification_report, confusion_matrix\n",
    "from sklearn.tree import DecisionTreeClassifier\n",
    "from sklearn.model_selection import train_test_split, KFold\n",
    "from sklearn import tree\n",
    "\n",
    "os.chdir('C:\\\\Users\\\\logtr\\\\SocialAd')\n",
    "df = pd.read_csv('Social_Network_Ads.csv')\n",
    "\n",
    "x = df.iloc[:,0:2].values\n",
    "y = df['Purchased'].to_numpy()\n",
    "\n",
    "x_train, x_test, y_train, y_test = train_test_split(x, y, test_size = 0.2)\n",
    "\n",
    "bestSVCAcc = 0\n",
    "bestSVC = SVC()\n",
    "\n",
    "for n in range(50):\n",
    "    for i in range(1, 101):\n",
    "        svm = SVC(C=i)\n",
    "        svm.fit(x_train, y_train)\n",
    "        curAcc = svm.score(x_test, y_test)\n",
    "\n",
    "        if curAcc > bestSVCAcc:\n",
    "            bestSVCACC = curAcc\n",
    "            bestSVC = svmS\n",
    "\n",
    "bestDTreeAcc = 0\n",
    "bestDTree = DecisionTreeClassifier()\n",
    "\n",
    "for n in range(50):\n",
    "    dTree = DecisionTreeClassifier(criterion = 'gini')\n",
    "    dTree.fit(x_train, y_train)\n",
    "    curAcc = dTree.score(x_test, y_test)\n",
    "    \n",
    "    if curAcc > bestDTreeAcc:\n",
    "        bestDTreeAcc = curAcc\n",
    "        bestDTree = dTree\n",
    "\n",
    "print(classification_report(y_test, bestSVC.predict(x_test)))\n",
    "print(classification_report(y_test, bestDTree.predict(x_test)))"
   ]
  },
  {
   "cell_type": "raw",
   "id": "b218ae99-db51-4b94-8a17-2be5e67ff8ac",
   "metadata": {},
   "source": [
    "              precision    recall  f1-score   support\n",
    "\n",
    "           0       0.73      0.98      0.83        49\n",
    "           1       0.93      0.42      0.58        31\n",
    "\n",
    "    accuracy                           0.76        80\n",
    "   macro avg       0.83      0.70      0.71        80\n",
    "weighted avg       0.81      0.76      0.74        80\n",
    "\n",
    "              precision    recall  f1-score   support\n",
    "\n",
    "           0       0.94      0.96      0.95        49\n",
    "           1       0.93      0.90      0.92        31\n",
    "\n",
    "    accuracy                           0.94        80\n",
    "   macro avg       0.94      0.93      0.93        80\n",
    "weighted avg       0.94      0.94      0.94        80"
   ]
  },
  {
   "cell_type": "code",
   "execution_count": null,
   "id": "c4a7f5d8-9602-4d80-86b4-7a6a495614e5",
   "metadata": {},
   "outputs": [],
   "source": [
    "from sklearn.model_selection import train_test_split, KFold\n",
    "\n",
    "kFoldSVMAcc = 0\n",
    "kFoldSVMModel = SVC()\n",
    "bestKSVM = 5\n",
    "\n",
    "kFoldDTreeAcc = 0\n",
    "kFoldDTreeModel = DecisionTreeClassifier()\n",
    "bestKDTree = 5\n",
    "\n",
    "x = df.iloc[:,0:2]\n",
    "\n",
    "for k in range(5, 11):\n",
    "    kf = KFold(n_splits=k, random_state=None)\n",
    "    \n",
    "    for train_index , test_index in kf.split(x):\n",
    "        x_train , x_test = x.iloc[train_index,:], x.iloc[test_index,:]\n",
    "        y_train , y_test = y[train_index] , y[test_index]\n",
    "        \n",
    "        curSVM = SVC()\n",
    "        curDTree = DecisionTreeClassifier()\n",
    "        \n",
    "        curSVM.fit(x_train, y_train)\n",
    "        curDTree.fit(x_train, y_train)\n",
    "        \n",
    "        svmScore = curSVM.score(x_test, y_test)\n",
    "        dtreeScore = curDTree.score(x_test, y_test)\n",
    "        \n",
    "        if svmScore > kFoldSVMAcc:\n",
    "            kFoldSVMAcc = svmScore\n",
    "            bestKSVM = k\n",
    "            kFoldSVMModel = curSVM\n",
    "        \n",
    "        if dtreeScore > kFoldDTreeAcc:\n",
    "            kFoldDTreeAcc = dtreeScore\n",
    "            bestKDTree = k\n",
    "            kFoldDTreeModel = curDTree\n",
    "\n",
    "print(\"SVM\\n\\tK =\", bestKSVM, \"\\n\\tAccuracy =\", kFoldSVMAcc)\n",
    "print(\"DTree\\n\\tK =\", bestKDTree, \"\\n\\tAccuracy =\", kFoldDTreeAcc)"
   ]
  },
  {
   "cell_type": "raw",
   "id": "8604aad8-b9bf-4513-9cd9-4aff20604922",
   "metadata": {},
   "source": [
    "SVM\n",
    "    K = 8 \n",
    "    Accuracy = 0.98\n",
    "DTree\n",
    "    K = 10 \n",
    "    Accuracy = 1.0"
   ]
  },
  {
   "cell_type": "raw",
   "id": "abe85d0d-89f5-4db3-8466-927efc9bfab1",
   "metadata": {},
   "source": [
    "We were able to achieve a an SVM model with 98% accuracy and a Decision Tree Model with 100% accuracy utilizing K cross fold validation. With accuracies this high, I fear there is a chance that the models are over fit and would recommend uitilizing more testing data on the model. In the end, I hope you enjoyed my dive into different classification methods used in this classification problem!"
   ]
  }
 ],
 "metadata": {
  "kernelspec": {
   "display_name": "Python 3",
   "language": "python",
   "name": "python3"
  },
  "language_info": {
   "codemirror_mode": {
    "name": "ipython",
    "version": 3
   },
   "file_extension": ".py",
   "mimetype": "text/x-python",
   "name": "python",
   "nbconvert_exporter": "python",
   "pygments_lexer": "ipython3",
   "version": "3.8.3"
  }
 },
 "nbformat": 4,
 "nbformat_minor": 5
}
